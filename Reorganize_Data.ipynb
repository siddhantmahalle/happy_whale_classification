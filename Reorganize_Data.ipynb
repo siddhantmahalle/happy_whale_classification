{
 "cells": [
  {
   "cell_type": "markdown",
   "source": [
    "## Move Images into class folder"
   ],
   "metadata": {
    "collapsed": false
   }
  },
  {
   "cell_type": "code",
   "execution_count": 1,
   "outputs": [],
   "source": [
    "import os"
   ],
   "metadata": {
    "collapsed": false
   }
  },
  {
   "cell_type": "code",
   "execution_count": 2,
   "outputs": [],
   "source": [
    "import pandas as pd"
   ],
   "metadata": {
    "collapsed": false
   }
  },
  {
   "cell_type": "code",
   "execution_count": 3,
   "outputs": [],
   "source": [
    "df = pd.read_csv('data/train.csv')"
   ],
   "metadata": {
    "collapsed": false
   }
  },
  {
   "cell_type": "code",
   "execution_count": 4,
   "outputs": [
    {
     "data": {
      "text/plain": "                image             species individual_id\n0  00021adfb725ed.jpg  melon_headed_whale  cadddb1636b9\n1  000562241d384d.jpg      humpback_whale  1a71fbb72250\n2  0007c33415ce37.jpg  false_killer_whale  60008f293a2b\n3  0007d9bca26a99.jpg  bottlenose_dolphin  4b00fe572063\n4  00087baf5cef7a.jpg      humpback_whale  8e5253662392",
      "text/html": "<div>\n<style scoped>\n    .dataframe tbody tr th:only-of-type {\n        vertical-align: middle;\n    }\n\n    .dataframe tbody tr th {\n        vertical-align: top;\n    }\n\n    .dataframe thead th {\n        text-align: right;\n    }\n</style>\n<table border=\"1\" class=\"dataframe\">\n  <thead>\n    <tr style=\"text-align: right;\">\n      <th></th>\n      <th>image</th>\n      <th>species</th>\n      <th>individual_id</th>\n    </tr>\n  </thead>\n  <tbody>\n    <tr>\n      <th>0</th>\n      <td>00021adfb725ed.jpg</td>\n      <td>melon_headed_whale</td>\n      <td>cadddb1636b9</td>\n    </tr>\n    <tr>\n      <th>1</th>\n      <td>000562241d384d.jpg</td>\n      <td>humpback_whale</td>\n      <td>1a71fbb72250</td>\n    </tr>\n    <tr>\n      <th>2</th>\n      <td>0007c33415ce37.jpg</td>\n      <td>false_killer_whale</td>\n      <td>60008f293a2b</td>\n    </tr>\n    <tr>\n      <th>3</th>\n      <td>0007d9bca26a99.jpg</td>\n      <td>bottlenose_dolphin</td>\n      <td>4b00fe572063</td>\n    </tr>\n    <tr>\n      <th>4</th>\n      <td>00087baf5cef7a.jpg</td>\n      <td>humpback_whale</td>\n      <td>8e5253662392</td>\n    </tr>\n  </tbody>\n</table>\n</div>"
     },
     "execution_count": 4,
     "metadata": {},
     "output_type": "execute_result"
    }
   ],
   "source": [
    "df.head()"
   ],
   "metadata": {
    "collapsed": false
   }
  },
  {
   "cell_type": "code",
   "execution_count": 5,
   "outputs": [],
   "source": [
    "# df.individual_id.value_counts()"
   ],
   "metadata": {
    "collapsed": false
   }
  },
  {
   "cell_type": "code",
   "execution_count": 6,
   "outputs": [],
   "source": [
    "species = list(df.species.value_counts().index)"
   ],
   "metadata": {
    "collapsed": false
   }
  },
  {
   "cell_type": "code",
   "execution_count": 7,
   "outputs": [
    {
     "data": {
      "text/plain": "['bottlenose_dolphin',\n 'beluga',\n 'humpback_whale',\n 'blue_whale',\n 'false_killer_whale',\n 'dusky_dolphin',\n 'spinner_dolphin',\n 'melon_headed_whale',\n 'minke_whale',\n 'killer_whale',\n 'fin_whale',\n 'gray_whale',\n 'bottlenose_dolpin',\n 'kiler_whale',\n 'southern_right_whale',\n 'spotted_dolphin',\n 'sei_whale',\n 'short_finned_pilot_whale',\n 'common_dolphin',\n 'cuviers_beaked_whale',\n 'pilot_whale',\n 'long_finned_pilot_whale',\n 'white_sided_dolphin',\n 'brydes_whale',\n 'pantropic_spotted_dolphin',\n 'globis',\n 'commersons_dolphin',\n 'pygmy_killer_whale',\n 'rough_toothed_dolphin',\n 'frasiers_dolphin']"
     },
     "execution_count": 7,
     "metadata": {},
     "output_type": "execute_result"
    }
   ],
   "source": [
    "species"
   ],
   "metadata": {
    "collapsed": false
   }
  },
  {
   "cell_type": "code",
   "execution_count": 29,
   "outputs": [],
   "source": [
    "# for folder in species:\n",
    "#     os.makedirs(os.path.join('data/images/', folder))"
   ],
   "metadata": {
    "collapsed": false
   }
  },
  {
   "cell_type": "code",
   "execution_count": 28,
   "outputs": [],
   "source": [
    "# for row in df.iterrows():\n",
    "#     print(row[1].image, row[1].species)\n",
    "#     src = f'data/train_images/{row[1].image}'\n",
    "#     dest = f'data/images/{row[1].species}/'\n",
    "#     # print(src, dest)\n",
    "#     os.system(f\"mv {src} {dest}\")\n",
    "#     # break"
   ],
   "metadata": {
    "collapsed": false
   }
  },
  {
   "cell_type": "markdown",
   "source": [
    "## Move all into one folder"
   ],
   "metadata": {
    "collapsed": false
   }
  },
  {
   "cell_type": "code",
   "execution_count": 8,
   "outputs": [
    {
     "data": {
      "text/plain": "['bottlenose_dolphin',\n 'beluga',\n 'humpback_whale',\n 'blue_whale',\n 'false_killer_whale',\n 'dusky_dolphin',\n 'spinner_dolphin',\n 'melon_headed_whale',\n 'minke_whale',\n 'killer_whale',\n 'fin_whale',\n 'gray_whale',\n 'bottlenose_dolpin',\n 'kiler_whale',\n 'southern_right_whale',\n 'spotted_dolphin',\n 'sei_whale',\n 'short_finned_pilot_whale',\n 'common_dolphin',\n 'cuviers_beaked_whale',\n 'pilot_whale',\n 'long_finned_pilot_whale',\n 'white_sided_dolphin',\n 'brydes_whale',\n 'pantropic_spotted_dolphin',\n 'globis',\n 'commersons_dolphin',\n 'pygmy_killer_whale',\n 'rough_toothed_dolphin',\n 'frasiers_dolphin']"
     },
     "execution_count": 8,
     "metadata": {},
     "output_type": "execute_result"
    }
   ],
   "source": [
    "species"
   ],
   "metadata": {
    "collapsed": false
   }
  },
  {
   "cell_type": "code",
   "execution_count": 10,
   "outputs": [
    {
     "name": "stdout",
     "output_type": "stream",
     "text": [
      "bottlenose_dolphin\n",
      "beluga\n",
      "humpback_whale\n",
      "blue_whale\n",
      "false_killer_whale\n",
      "dusky_dolphin\n",
      "spinner_dolphin\n",
      "melon_headed_whale\n",
      "minke_whale\n",
      "killer_whale\n",
      "fin_whale\n",
      "gray_whale\n",
      "bottlenose_dolpin\n",
      "kiler_whale\n",
      "southern_right_whale\n",
      "spotted_dolphin\n",
      "sei_whale\n",
      "short_finned_pilot_whale\n",
      "common_dolphin\n",
      "cuviers_beaked_whale\n",
      "pilot_whale\n",
      "long_finned_pilot_whale\n",
      "white_sided_dolphin\n",
      "brydes_whale\n",
      "pantropic_spotted_dolphin\n",
      "globis\n",
      "commersons_dolphin\n",
      "pygmy_killer_whale\n",
      "rough_toothed_dolphin\n",
      "frasiers_dolphin\n"
     ]
    }
   ],
   "source": [
    "# for folder in species:\n",
    "#     print(folder)\n",
    "#     images = os.listdir(os.path.join('data/images', folder))\n",
    "#     if len(images) > 0 :\n",
    "#         for image in images:\n",
    "#             src = f'data/images/{folder}/{image}'\n",
    "#             dest = f'data/train_images/'\n",
    "#             os.system(f\"mv {src} {dest}\")"
   ],
   "metadata": {
    "collapsed": false
   }
  },
  {
   "cell_type": "code",
   "execution_count": null,
   "outputs": [],
   "source": [],
   "metadata": {
    "collapsed": false
   }
  }
 ],
 "metadata": {
  "kernelspec": {
   "display_name": "Python 3",
   "language": "python",
   "name": "python3"
  },
  "language_info": {
   "codemirror_mode": {
    "name": "ipython",
    "version": 2
   },
   "file_extension": ".py",
   "mimetype": "text/x-python",
   "name": "python",
   "nbconvert_exporter": "python",
   "pygments_lexer": "ipython2",
   "version": "2.7.6"
  }
 },
 "nbformat": 4,
 "nbformat_minor": 0
}
