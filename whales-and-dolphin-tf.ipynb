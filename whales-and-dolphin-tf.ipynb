{
 "cells": [
  {
   "cell_type": "code",
   "execution_count": 1,
   "id": "54af8717",
   "metadata": {
    "_cell_guid": "b1076dfc-b9ad-4769-8c92-a6c4dae69d19",
    "_uuid": "8f2839f25d086af736a60e9eeb907d3b93b6e0e5",
    "execution": {
     "iopub.execute_input": "2022-03-13T19:17:03.486489Z",
     "iopub.status.busy": "2022-03-13T19:17:03.484218Z",
     "iopub.status.idle": "2022-03-13T19:17:03.514059Z",
     "shell.execute_reply": "2022-03-13T19:17:03.516325Z",
     "shell.execute_reply.started": "2022-03-13T19:13:10.849633Z"
    },
    "papermill": {
     "duration": 0.086341,
     "end_time": "2022-03-13T19:17:03.516797",
     "exception": false,
     "start_time": "2022-03-13T19:17:03.430456",
     "status": "completed"
    },
    "tags": []
   },
   "outputs": [],
   "source": [
    "import numpy as np # linear algebra\n",
    "import pandas as pd # data processing, CSV file I/O (e.g. pd.read_csv)\n",
    "\n",
    "import os"
   ]
  },
  {
   "cell_type": "code",
   "execution_count": 2,
   "id": "ca46996d",
   "metadata": {
    "execution": {
     "iopub.execute_input": "2022-03-13T19:17:03.608273Z",
     "iopub.status.busy": "2022-03-13T19:17:03.607149Z",
     "iopub.status.idle": "2022-03-13T19:17:03.758197Z",
     "shell.execute_reply": "2022-03-13T19:17:03.759196Z",
     "shell.execute_reply.started": "2022-03-13T19:13:10.859169Z"
    },
    "papermill": {
     "duration": 0.207106,
     "end_time": "2022-03-13T19:17:03.759432",
     "exception": false,
     "start_time": "2022-03-13T19:17:03.552326",
     "status": "completed"
    },
    "tags": []
   },
   "outputs": [
    {
     "data": {
      "text/plain": "                image             species individual_id\n0  00021adfb725ed.jpg  melon_headed_whale  cadddb1636b9\n1  000562241d384d.jpg      humpback_whale  1a71fbb72250\n2  0007c33415ce37.jpg  false_killer_whale  60008f293a2b\n3  0007d9bca26a99.jpg  bottlenose_dolphin  4b00fe572063\n4  00087baf5cef7a.jpg      humpback_whale  8e5253662392",
      "text/html": "<div>\n<style scoped>\n    .dataframe tbody tr th:only-of-type {\n        vertical-align: middle;\n    }\n\n    .dataframe tbody tr th {\n        vertical-align: top;\n    }\n\n    .dataframe thead th {\n        text-align: right;\n    }\n</style>\n<table border=\"1\" class=\"dataframe\">\n  <thead>\n    <tr style=\"text-align: right;\">\n      <th></th>\n      <th>image</th>\n      <th>species</th>\n      <th>individual_id</th>\n    </tr>\n  </thead>\n  <tbody>\n    <tr>\n      <th>0</th>\n      <td>00021adfb725ed.jpg</td>\n      <td>melon_headed_whale</td>\n      <td>cadddb1636b9</td>\n    </tr>\n    <tr>\n      <th>1</th>\n      <td>000562241d384d.jpg</td>\n      <td>humpback_whale</td>\n      <td>1a71fbb72250</td>\n    </tr>\n    <tr>\n      <th>2</th>\n      <td>0007c33415ce37.jpg</td>\n      <td>false_killer_whale</td>\n      <td>60008f293a2b</td>\n    </tr>\n    <tr>\n      <th>3</th>\n      <td>0007d9bca26a99.jpg</td>\n      <td>bottlenose_dolphin</td>\n      <td>4b00fe572063</td>\n    </tr>\n    <tr>\n      <th>4</th>\n      <td>00087baf5cef7a.jpg</td>\n      <td>humpback_whale</td>\n      <td>8e5253662392</td>\n    </tr>\n  </tbody>\n</table>\n</div>"
     },
     "execution_count": 2,
     "metadata": {},
     "output_type": "execute_result"
    }
   ],
   "source": [
    "# Load the train data\n",
    "\n",
    "train_df = pd.read_csv('data/train.csv')\n",
    "train_df.head(5)"
   ]
  },
  {
   "cell_type": "code",
   "execution_count": 3,
   "id": "66649956",
   "metadata": {
    "execution": {
     "iopub.execute_input": "2022-03-13T19:17:03.868730Z",
     "iopub.status.busy": "2022-03-13T19:17:03.867649Z",
     "iopub.status.idle": "2022-03-13T19:17:03.893579Z",
     "shell.execute_reply": "2022-03-13T19:17:03.894833Z",
     "shell.execute_reply.started": "2022-03-13T19:13:10.955388Z"
    },
    "papermill": {
     "duration": 0.09308,
     "end_time": "2022-03-13T19:17:03.895136",
     "exception": false,
     "start_time": "2022-03-13T19:17:03.802056",
     "status": "completed"
    },
    "tags": []
   },
   "outputs": [
    {
     "name": "stdout",
     "output_type": "stream",
     "text": [
      "<class 'pandas.core.frame.DataFrame'>\n",
      "RangeIndex: 51033 entries, 0 to 51032\n",
      "Data columns (total 3 columns):\n",
      " #   Column         Non-Null Count  Dtype \n",
      "---  ------         --------------  ----- \n",
      " 0   image          51033 non-null  object\n",
      " 1   species        51033 non-null  object\n",
      " 2   individual_id  51033 non-null  object\n",
      "dtypes: object(3)\n",
      "memory usage: 1.2+ MB\n"
     ]
    }
   ],
   "source": [
    "# There are 51K images in train set\n",
    "train_df.info()"
   ]
  },
  {
   "cell_type": "code",
   "execution_count": 4,
   "id": "4e859be9",
   "metadata": {
    "execution": {
     "iopub.execute_input": "2022-03-13T19:17:03.973229Z",
     "iopub.status.busy": "2022-03-13T19:17:03.972247Z",
     "iopub.status.idle": "2022-03-13T19:17:04.050502Z",
     "shell.execute_reply": "2022-03-13T19:17:04.051160Z",
     "shell.execute_reply.started": "2022-03-13T19:13:10.989993Z"
    },
    "papermill": {
     "duration": 0.124453,
     "end_time": "2022-03-13T19:17:04.055667",
     "exception": false,
     "start_time": "2022-03-13T19:17:03.931214",
     "status": "completed"
    },
    "tags": []
   },
   "outputs": [
    {
     "data": {
      "text/plain": "                image                                        predictions\n0  000110707af0ba.jpg  37c7aba965a5 114207cab555 a6e325d8e924 19fbb96...\n1  0006287ec424cb.jpg  37c7aba965a5 114207cab555 a6e325d8e924 19fbb96...\n2  000809ecb2ccad.jpg  37c7aba965a5 114207cab555 a6e325d8e924 19fbb96...\n3  00098d1376dab2.jpg  37c7aba965a5 114207cab555 a6e325d8e924 19fbb96...\n4  000b8d89c738bd.jpg  37c7aba965a5 114207cab555 a6e325d8e924 19fbb96...",
      "text/html": "<div>\n<style scoped>\n    .dataframe tbody tr th:only-of-type {\n        vertical-align: middle;\n    }\n\n    .dataframe tbody tr th {\n        vertical-align: top;\n    }\n\n    .dataframe thead th {\n        text-align: right;\n    }\n</style>\n<table border=\"1\" class=\"dataframe\">\n  <thead>\n    <tr style=\"text-align: right;\">\n      <th></th>\n      <th>image</th>\n      <th>predictions</th>\n    </tr>\n  </thead>\n  <tbody>\n    <tr>\n      <th>0</th>\n      <td>000110707af0ba.jpg</td>\n      <td>37c7aba965a5 114207cab555 a6e325d8e924 19fbb96...</td>\n    </tr>\n    <tr>\n      <th>1</th>\n      <td>0006287ec424cb.jpg</td>\n      <td>37c7aba965a5 114207cab555 a6e325d8e924 19fbb96...</td>\n    </tr>\n    <tr>\n      <th>2</th>\n      <td>000809ecb2ccad.jpg</td>\n      <td>37c7aba965a5 114207cab555 a6e325d8e924 19fbb96...</td>\n    </tr>\n    <tr>\n      <th>3</th>\n      <td>00098d1376dab2.jpg</td>\n      <td>37c7aba965a5 114207cab555 a6e325d8e924 19fbb96...</td>\n    </tr>\n    <tr>\n      <th>4</th>\n      <td>000b8d89c738bd.jpg</td>\n      <td>37c7aba965a5 114207cab555 a6e325d8e924 19fbb96...</td>\n    </tr>\n  </tbody>\n</table>\n</div>"
     },
     "execution_count": 4,
     "metadata": {},
     "output_type": "execute_result"
    }
   ],
   "source": [
    "# Sample submission\n",
    "sample_sub = pd.read_csv('data/sample_submission.csv')\n",
    "sample_sub.head(5)"
   ]
  },
  {
   "cell_type": "code",
   "execution_count": 5,
   "id": "c51ec3aa",
   "metadata": {
    "execution": {
     "iopub.execute_input": "2022-03-13T19:17:04.114812Z",
     "iopub.status.busy": "2022-03-13T19:17:04.113909Z",
     "iopub.status.idle": "2022-03-13T19:17:04.117516Z",
     "shell.execute_reply": "2022-03-13T19:17:04.118066Z",
     "shell.execute_reply.started": "2022-03-13T19:13:11.052449Z"
    },
    "papermill": {
     "duration": 0.031919,
     "end_time": "2022-03-13T19:17:04.118220",
     "exception": false,
     "start_time": "2022-03-13T19:17:04.086301",
     "status": "completed"
    },
    "tags": []
   },
   "outputs": [
    {
     "data": {
      "text/plain": "(51033, 3)"
     },
     "execution_count": 5,
     "metadata": {},
     "output_type": "execute_result"
    }
   ],
   "source": [
    "#Size of train set\n",
    "train_df.shape"
   ]
  },
  {
   "cell_type": "code",
   "execution_count": 6,
   "id": "dbc7c7fb",
   "metadata": {
    "execution": {
     "iopub.execute_input": "2022-03-13T19:17:04.168084Z",
     "iopub.status.busy": "2022-03-13T19:17:04.167339Z",
     "iopub.status.idle": "2022-03-13T19:17:04.171980Z",
     "shell.execute_reply": "2022-03-13T19:17:04.171428Z",
     "shell.execute_reply.started": "2022-03-13T19:13:11.059834Z"
    },
    "papermill": {
     "duration": 0.031321,
     "end_time": "2022-03-13T19:17:04.172109",
     "exception": false,
     "start_time": "2022-03-13T19:17:04.140788",
     "status": "completed"
    },
    "tags": []
   },
   "outputs": [],
   "source": [
    "# # Load some images\n",
    "# from tqdm.autonotebook import tqdm\n",
    "# from keras.preprocessing import image\n",
    "# from keras.applications.imagenet_utils import preprocess_input\n",
    "\n",
    "# # Loading images \n",
    "# # ds = training dataframe dataset , s = size of train_df, d = 'path to train_df'\n",
    "\n",
    "# def load_images(ds, s , d):\n",
    "#     x_train = np.zeros((s, 32, 32, ds.shape[1]))\n",
    "#     c = 0\n",
    "#     for fig in tqdm(ds['image']):\n",
    "#         img = image.load_img(\"../input/happy-whale-and-dolphin/\"+\n",
    "#                              d+\"/\"+fig, \n",
    "#                              target_size=(32, 32, 3))\n",
    "#         x = image.img_to_array(img)\n",
    "#         x = preprocess_input(x)\n",
    "#         x_train[c] = x\n",
    "#         c += 1\n",
    "#     return x_train\n",
    "# X = load_images(train_df, train_df.shape[0], 'train_images')\n",
    "# X /= 255\n",
    "                         "
   ]
  },
  {
   "cell_type": "code",
   "execution_count": 21,
   "id": "70bf23c2",
   "metadata": {
    "execution": {
     "iopub.execute_input": "2022-03-13T19:17:04.226067Z",
     "iopub.status.busy": "2022-03-13T19:17:04.225340Z",
     "iopub.status.idle": "2022-03-13T19:17:04.232086Z",
     "shell.execute_reply": "2022-03-13T19:17:04.231348Z",
     "shell.execute_reply.started": "2022-03-13T19:13:11.067182Z"
    },
    "papermill": {
     "duration": 0.038886,
     "end_time": "2022-03-13T19:17:04.232218",
     "exception": false,
     "start_time": "2022-03-13T19:17:04.193332",
     "status": "completed"
    },
    "tags": []
   },
   "outputs": [],
   "source": [
    "train_df['class'] = train_df['species'].apply(lambda x: x.split('_')[-1])"
   ]
  },
  {
   "cell_type": "code",
   "execution_count": 22,
   "outputs": [
    {
     "data": {
      "text/plain": "                image             species individual_id    class\n0  00021adfb725ed.jpg  melon_headed_whale  cadddb1636b9    whale\n1  000562241d384d.jpg      humpback_whale  1a71fbb72250    whale\n2  0007c33415ce37.jpg  false_killer_whale  60008f293a2b    whale\n3  0007d9bca26a99.jpg  bottlenose_dolphin  4b00fe572063  dolphin\n4  00087baf5cef7a.jpg      humpback_whale  8e5253662392    whale",
      "text/html": "<div>\n<style scoped>\n    .dataframe tbody tr th:only-of-type {\n        vertical-align: middle;\n    }\n\n    .dataframe tbody tr th {\n        vertical-align: top;\n    }\n\n    .dataframe thead th {\n        text-align: right;\n    }\n</style>\n<table border=\"1\" class=\"dataframe\">\n  <thead>\n    <tr style=\"text-align: right;\">\n      <th></th>\n      <th>image</th>\n      <th>species</th>\n      <th>individual_id</th>\n      <th>class</th>\n    </tr>\n  </thead>\n  <tbody>\n    <tr>\n      <th>0</th>\n      <td>00021adfb725ed.jpg</td>\n      <td>melon_headed_whale</td>\n      <td>cadddb1636b9</td>\n      <td>whale</td>\n    </tr>\n    <tr>\n      <th>1</th>\n      <td>000562241d384d.jpg</td>\n      <td>humpback_whale</td>\n      <td>1a71fbb72250</td>\n      <td>whale</td>\n    </tr>\n    <tr>\n      <th>2</th>\n      <td>0007c33415ce37.jpg</td>\n      <td>false_killer_whale</td>\n      <td>60008f293a2b</td>\n      <td>whale</td>\n    </tr>\n    <tr>\n      <th>3</th>\n      <td>0007d9bca26a99.jpg</td>\n      <td>bottlenose_dolphin</td>\n      <td>4b00fe572063</td>\n      <td>dolphin</td>\n    </tr>\n    <tr>\n      <th>4</th>\n      <td>00087baf5cef7a.jpg</td>\n      <td>humpback_whale</td>\n      <td>8e5253662392</td>\n      <td>whale</td>\n    </tr>\n  </tbody>\n</table>\n</div>"
     },
     "execution_count": 22,
     "metadata": {},
     "output_type": "execute_result"
    }
   ],
   "source": [
    "train_df.head()"
   ],
   "metadata": {
    "collapsed": false
   }
  },
  {
   "cell_type": "code",
   "execution_count": 23,
   "outputs": [
    {
     "data": {
      "text/plain": "whale      26479\ndolphin    15878\nbeluga      7443\ndolpin      1117\nglobis       116\nName: class, dtype: int64"
     },
     "execution_count": 23,
     "metadata": {},
     "output_type": "execute_result"
    }
   ],
   "source": [
    "train_df['class'].value_counts()"
   ],
   "metadata": {
    "collapsed": false
   }
  },
  {
   "cell_type": "code",
   "execution_count": 24,
   "id": "6586d7b1",
   "metadata": {
    "execution": {
     "iopub.execute_input": "2022-03-13T19:17:04.286096Z",
     "iopub.status.busy": "2022-03-13T19:17:04.285071Z",
     "iopub.status.idle": "2022-03-13T19:18:18.593271Z",
     "shell.execute_reply": "2022-03-13T19:18:18.593855Z",
     "shell.execute_reply.started": "2022-03-13T19:13:11.101816Z"
    },
    "papermill": {
     "duration": 74.339016,
     "end_time": "2022-03-13T19:18:18.594092",
     "exception": false,
     "start_time": "2022-03-13T19:17:04.255076",
     "status": "completed"
    },
    "tags": []
   },
   "outputs": [
    {
     "name": "stdout",
     "output_type": "stream",
     "text": [
      "Found 40827 validated image filenames belonging to 5 classes.\n",
      "Found 10206 validated image filenames belonging to 5 classes.\n"
     ]
    }
   ],
   "source": [
    "# Load images in training data\n",
    "from tensorflow.keras.preprocessing.image import ImageDataGenerator\n",
    "\n",
    "train_datagen = ImageDataGenerator(rescale = 1./255,\n",
    "                                   shear_range = 0.2,\n",
    "                                   zoom_range = 0.2,\n",
    "                                   height_shift_range = 0.1,\n",
    "                                   width_shift_range = 0.1,\n",
    "                                validation_split = 0.2,\n",
    "                                horizontal_flip = True)\n",
    "\n",
    "valid_datagen = ImageDataGenerator(rescale = 1./255,\n",
    "                                  validation_split = 0.2)\n",
    "\n",
    "train_dir = 'data/train_images/'\n",
    "\n",
    "train_set = train_datagen.flow_from_dataframe(train_df, train_dir,\n",
    "                                              seed = 101,\n",
    "                                            target_size = (64,64),\n",
    "                                            batch_size = 32,\n",
    "                                            x_col='image',\n",
    "                                            y_col='class',\n",
    "                                            class_mode = 'categorical',\n",
    "                                            subset = 'training')\n",
    "\n",
    "valid_set = valid_datagen.flow_from_dataframe(train_df, \n",
    "                                              train_dir,\n",
    "                                                seed = 101,\n",
    "                                                target_size = (64,64),\n",
    "                                              x_col='image',\n",
    "                                                y_col='class',\n",
    "                                                batch_size = 32,\n",
    "                                                class_mode = 'categorical',\n",
    "                                                subset = 'validation')"
   ]
  },
  {
   "cell_type": "code",
   "execution_count": 25,
   "outputs": [
    {
     "data": {
      "text/plain": "<keras.preprocessing.image.DataFrameIterator at 0x7f0386cd2e20>"
     },
     "execution_count": 25,
     "metadata": {},
     "output_type": "execute_result"
    }
   ],
   "source": [
    "valid_set"
   ],
   "metadata": {
    "collapsed": false
   }
  },
  {
   "cell_type": "code",
   "execution_count": 26,
   "id": "016c9f59",
   "metadata": {
    "execution": {
     "iopub.execute_input": "2022-03-13T19:18:18.645638Z",
     "iopub.status.busy": "2022-03-13T19:18:18.644540Z",
     "iopub.status.idle": "2022-03-13T19:18:18.649996Z",
     "shell.execute_reply": "2022-03-13T19:18:18.649446Z",
     "shell.execute_reply.started": "2022-03-13T19:14:15.206476Z"
    },
    "papermill": {
     "duration": 0.031074,
     "end_time": "2022-03-13T19:18:18.650123",
     "exception": false,
     "start_time": "2022-03-13T19:18:18.619049",
     "status": "completed"
    },
    "tags": []
   },
   "outputs": [],
   "source": [
    "# '''\n",
    "# Encode individual id's present in training data using \n",
    "# one hot encoding and label encoding\n",
    "# Writing a function to retrurn labels for individual image id's\n",
    "# ie: train_df['individual_id']\n",
    "\n",
    "# '''\n",
    "# from sklearn.preprocessing import LabelEncoder\n",
    "# from sklearn.preprocessing import OneHotEncoder\n",
    "\n",
    "# def labels(l):\n",
    "#     values = np.array(l)\n",
    "#     le = LabelEncoder()\n",
    "#     oe = OneHotEncoder(parse = False)\n",
    "#     le_values = le.fit_transform(values)\n",
    "#     oe_values = oe.fit_transform(values)\n",
    "#     return le_values, oe_values\n",
    "\n",
    "# y, le = labels(train_df['individual_id'])\n"
   ]
  },
  {
   "cell_type": "code",
   "execution_count": 26,
   "id": "3b52085d",
   "metadata": {
    "execution": {
     "iopub.execute_input": "2022-03-13T19:18:18.700093Z",
     "iopub.status.busy": "2022-03-13T19:18:18.699114Z",
     "iopub.status.idle": "2022-03-13T19:18:18.702357Z",
     "shell.execute_reply": "2022-03-13T19:18:18.701749Z",
     "shell.execute_reply.started": "2022-03-13T19:14:15.212896Z"
    },
    "papermill": {
     "duration": 0.02943,
     "end_time": "2022-03-13T19:18:18.702490",
     "exception": false,
     "start_time": "2022-03-13T19:18:18.673060",
     "status": "completed"
    },
    "tags": []
   },
   "outputs": [],
   "source": []
  },
  {
   "cell_type": "markdown",
   "id": "59b70357",
   "metadata": {
    "papermill": {
     "duration": 0.022788,
     "end_time": "2022-03-13T19:18:18.747848",
     "exception": false,
     "start_time": "2022-03-13T19:18:18.725060",
     "status": "completed"
    },
    "tags": []
   },
   "source": [
    "# Build the Model"
   ]
  },
  {
   "cell_type": "code",
   "execution_count": 27,
   "id": "66950db3",
   "metadata": {
    "execution": {
     "iopub.execute_input": "2022-03-13T19:18:18.804285Z",
     "iopub.status.busy": "2022-03-13T19:18:18.796961Z",
     "iopub.status.idle": "2022-03-13T19:18:21.909245Z",
     "shell.execute_reply": "2022-03-13T19:18:21.908585Z",
     "shell.execute_reply.started": "2022-03-13T19:14:15.225011Z"
    },
    "papermill": {
     "duration": 3.13814,
     "end_time": "2022-03-13T19:18:21.909410",
     "exception": false,
     "start_time": "2022-03-13T19:18:18.771270",
     "status": "completed"
    },
    "tags": []
   },
   "outputs": [
    {
     "name": "stdout",
     "output_type": "stream",
     "text": [
      "Model: \"sequential_2\"\n",
      "_________________________________________________________________\n",
      " Layer (type)                Output Shape              Param #   \n",
      "=================================================================\n",
      " conv2d_4 (Conv2D)           (None, 59, 59, 32)        3488      \n",
      "                                                                 \n",
      " batch_normalization_4 (Batc  (None, 59, 59, 32)       128       \n",
      " hNormalization)                                                 \n",
      "                                                                 \n",
      " activation_4 (Activation)   (None, 59, 59, 32)        0         \n",
      "                                                                 \n",
      " max_pooling2d_4 (MaxPooling  (None, 29, 29, 32)       0         \n",
      " 2D)                                                             \n",
      "                                                                 \n",
      " conv2d_5 (Conv2D)           (None, 27, 27, 32)        9248      \n",
      "                                                                 \n",
      " batch_normalization_5 (Batc  (None, 27, 27, 32)       128       \n",
      " hNormalization)                                                 \n",
      "                                                                 \n",
      " activation_5 (Activation)   (None, 27, 27, 32)        0         \n",
      "                                                                 \n",
      " max_pooling2d_5 (MaxPooling  (None, 13, 13, 32)       0         \n",
      " 2D)                                                             \n",
      "                                                                 \n",
      " flatten_2 (Flatten)         (None, 5408)              0         \n",
      "                                                                 \n",
      " dense_4 (Dense)             (None, 256)               1384704   \n",
      "                                                                 \n",
      " dropout_2 (Dropout)         (None, 256)               0         \n",
      "                                                                 \n",
      " dense_5 (Dense)             (None, 5)                 1285      \n",
      "                                                                 \n",
      "=================================================================\n",
      "Total params: 1,398,981\n",
      "Trainable params: 1,398,853\n",
      "Non-trainable params: 128\n",
      "_________________________________________________________________\n"
     ]
    }
   ],
   "source": [
    "from keras.layers import Input, Dense, Activation, BatchNormalization, Flatten, Conv2D\n",
    "from keras.layers import AveragePooling2D, MaxPooling2D, Dropout\n",
    "from tensorflow.keras import Sequential\n",
    "\n",
    "model = Sequential()\n",
    "\n",
    "model.add(Conv2D(32, (6,6), strides = (1,1), input_shape =\n",
    "                (64,64,3)))\n",
    "model.add(BatchNormalization(axis=3))\n",
    "model.add(Activation('relu'))\n",
    "model.add(MaxPooling2D(2,2))\n",
    "\n",
    "model.add(Conv2D(32, (3,3), strides = (1,1)))\n",
    "model.add(BatchNormalization(axis=3))\n",
    "model.add(Activation('relu'))\n",
    "model.add(MaxPooling2D(2,2))\n",
    "model.add(Flatten())\n",
    "\n",
    "model.add(Dense(256, activation = 'relu'))\n",
    "model.add(Dropout(0.85))\n",
    "\n",
    "model.add(Dense(5, activation = 'softmax'))\n",
    "model.compile(loss = 'categorical_crossentropy',\n",
    "             optimizer = 'adam',\n",
    "             metrics = ['accuracy'])\n",
    "model.summary()\n"
   ]
  },
  {
   "cell_type": "code",
   "execution_count": 27,
   "outputs": [],
   "source": [],
   "metadata": {
    "collapsed": false
   }
  },
  {
   "cell_type": "code",
   "execution_count": 28,
   "id": "4cca1975",
   "metadata": {
    "execution": {
     "iopub.execute_input": "2022-03-13T19:18:21.966413Z",
     "iopub.status.busy": "2022-03-13T19:18:21.965310Z",
     "iopub.status.idle": "2022-03-13T19:18:21.968725Z",
     "shell.execute_reply": "2022-03-13T19:18:21.968130Z",
     "shell.execute_reply.started": "2022-03-13T19:14:17.613566Z"
    },
    "papermill": {
     "duration": 0.034849,
     "end_time": "2022-03-13T19:18:21.968905",
     "exception": false,
     "start_time": "2022-03-13T19:18:21.934056",
     "status": "completed"
    },
    "tags": []
   },
   "outputs": [],
   "source": [
    "from tensorflow.keras.callbacks import EarlyStopping\n",
    "\n",
    "callbacks = [EarlyStopping(patience = 3,\n",
    "                          monitor = 'accuracy',\n",
    "                          mode = 'max')]"
   ]
  },
  {
   "cell_type": "code",
   "execution_count": null,
   "id": "fcd591bb",
   "metadata": {
    "execution": {
     "iopub.execute_input": "2022-03-13T19:18:22.023446Z",
     "iopub.status.busy": "2022-03-13T19:18:22.022677Z",
     "iopub.status.idle": "2022-03-14T02:06:37.383831Z",
     "shell.execute_reply": "2022-03-14T02:06:37.384551Z"
    },
    "papermill": {
     "duration": 24495.391392,
     "end_time": "2022-03-14T02:06:37.384731",
     "exception": false,
     "start_time": "2022-03-13T19:18:21.993339",
     "status": "completed"
    },
    "tags": [],
    "pycharm": {
     "is_executing": true
    }
   },
   "outputs": [
    {
     "name": "stdout",
     "output_type": "stream",
     "text": [
      "Epoch 1/10\n",
      "1276/1276 [==============================] - 729s 571ms/step - loss: 1.0824 - accuracy: 0.5600 - val_loss: 0.9707 - val_accuracy: 0.5906\n",
      "Epoch 2/10\n",
      "1276/1276 [==============================] - 721s 565ms/step - loss: 0.8609 - accuracy: 0.6114 - val_loss: 0.9472 - val_accuracy: 0.6555\n",
      "Epoch 3/10\n",
      "1276/1276 [==============================] - 715s 560ms/step - loss: 0.7732 - accuracy: 0.6644 - val_loss: 0.6521 - val_accuracy: 0.7190\n",
      "Epoch 4/10\n",
      "1276/1276 [==============================] - 716s 561ms/step - loss: 0.7096 - accuracy: 0.6949 - val_loss: 0.6010 - val_accuracy: 0.7563\n",
      "Epoch 5/10\n",
      "1276/1276 [==============================] - 715s 560ms/step - loss: 0.6694 - accuracy: 0.7188 - val_loss: 0.7587 - val_accuracy: 0.7060\n",
      "Epoch 6/10\n",
      " 134/1276 [==>...........................] - ETA: 8:18 - loss: 0.6397 - accuracy: 0.7323"
     ]
    }
   ],
   "source": [
    "hist = model.fit(train_set,\n",
    "                 epochs = 10,\n",
    "                 validation_data = valid_set,\n",
    "                 batch_size = 40000,\n",
    "                 verbose = 1,\n",
    "                callbacks = callbacks)\n"
   ]
  },
  {
   "cell_type": "markdown",
   "id": "eb651387",
   "metadata": {
    "papermill": {
     "duration": 2.72633,
     "end_time": "2022-03-14T02:06:43.039514",
     "exception": false,
     "start_time": "2022-03-14T02:06:40.313184",
     "status": "completed"
    },
    "tags": []
   },
   "source": [
    "# Model Evaluation"
   ]
  },
  {
   "cell_type": "code",
   "execution_count": null,
   "id": "2763d7ca",
   "metadata": {
    "execution": {
     "iopub.execute_input": "2022-03-14T02:06:48.293186Z",
     "iopub.status.busy": "2022-03-14T02:06:48.292061Z",
     "iopub.status.idle": "2022-03-14T02:06:48.717061Z",
     "shell.execute_reply": "2022-03-14T02:06:48.716338Z"
    },
    "papermill": {
     "duration": 3.057001,
     "end_time": "2022-03-14T02:06:48.717225",
     "exception": false,
     "start_time": "2022-03-14T02:06:45.660224",
     "status": "completed"
    },
    "tags": [],
    "pycharm": {
     "is_executing": true
    }
   },
   "outputs": [],
   "source": [
    "import matplotlib.pyplot as plt\n",
    "\n",
    "plt.figure(figsize = (15,5))\n",
    "plt.plot(hist.history['accuracy'])\n",
    "plt.title('Model Accuracy')\n",
    "plt.xlabel('Epoch')\n",
    "plt.ylabel('Accuracy')\n",
    "plt.show()"
   ]
  },
  {
   "cell_type": "code",
   "execution_count": null,
   "id": "b70017bf",
   "metadata": {
    "execution": {
     "iopub.execute_input": "2022-03-14T02:06:54.680175Z",
     "iopub.status.busy": "2022-03-14T02:06:54.667598Z",
     "iopub.status.idle": "2022-03-14T02:06:54.876713Z",
     "shell.execute_reply": "2022-03-14T02:06:54.876166Z"
    },
    "papermill": {
     "duration": 2.90376,
     "end_time": "2022-03-14T02:06:54.876847",
     "exception": false,
     "start_time": "2022-03-14T02:06:51.973087",
     "status": "completed"
    },
    "tags": [],
    "pycharm": {
     "is_executing": true
    }
   },
   "outputs": [],
   "source": [
    "\n",
    "plt.figure(figsize = (15,5))\n",
    "plt.plot(hist.history['loss'])\n",
    "plt.title('Model Loss')\n",
    "plt.xlabel('Epoch')\n",
    "plt.ylabel('Loss')\n",
    "plt.show()"
   ]
  },
  {
   "cell_type": "code",
   "execution_count": null,
   "id": "4f45040a",
   "metadata": {
    "execution": {
     "iopub.execute_input": "2022-03-14T02:07:01.029520Z",
     "iopub.status.busy": "2022-03-14T02:07:01.028717Z",
     "iopub.status.idle": "2022-03-14T02:07:01.032766Z",
     "shell.execute_reply": "2022-03-14T02:07:01.033303Z"
    },
    "papermill": {
     "duration": 2.969862,
     "end_time": "2022-03-14T02:07:01.033528",
     "exception": false,
     "start_time": "2022-03-14T02:06:58.063666",
     "status": "completed"
    },
    "tags": [],
    "pycharm": {
     "is_executing": true
    }
   },
   "outputs": [],
   "source": [
    "print(hist.history['accuracy'])\n",
    "print(hist.history['val_accuracy'])\n",
    "print(hist.history['loss'])"
   ]
  },
  {
   "cell_type": "code",
   "execution_count": null,
   "outputs": [],
   "source": [],
   "metadata": {
    "collapsed": false
   }
  }
 ],
 "metadata": {
  "kernelspec": {
   "display_name": "Python 3",
   "language": "python",
   "name": "python3"
  },
  "language_info": {
   "codemirror_mode": {
    "name": "ipython",
    "version": 3
   },
   "file_extension": ".py",
   "mimetype": "text/x-python",
   "name": "python",
   "nbconvert_exporter": "python",
   "pygments_lexer": "ipython3",
   "version": "3.7.12"
  },
  "papermill": {
   "default_parameters": {},
   "duration": 24618.375954,
   "end_time": "2022-03-14T02:07:11.812367",
   "environment_variables": {},
   "exception": null,
   "input_path": "__notebook__.ipynb",
   "output_path": "__notebook__.ipynb",
   "parameters": {},
   "start_time": "2022-03-13T19:16:53.436413",
   "version": "2.3.3"
  }
 },
 "nbformat": 4,
 "nbformat_minor": 5
}
